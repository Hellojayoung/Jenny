{
 "cells": [
  {
   "cell_type": "code",
   "execution_count": 3,
   "metadata": {},
   "outputs": [
    {
     "name": "stdout",
     "output_type": "stream",
     "text": [
      "Enter your name:I\n"
     ]
    },
    {
     "ename": "TypeError",
     "evalue": "'str' object is not callable",
     "output_type": "error",
     "traceback": [
      "\u001b[1;31m---------------------------------------------------------------------------\u001b[0m",
      "\u001b[1;31mTypeError\u001b[0m                                 Traceback (most recent call last)",
      "\u001b[1;32m<ipython-input-3-9ac6d8ebb4dc>\u001b[0m in \u001b[0;36m<module>\u001b[1;34m\u001b[0m\n\u001b[0;32m      1\u001b[0m \u001b[0mn\u001b[0m \u001b[1;33m=\u001b[0m \u001b[0minput\u001b[0m\u001b[1;33m(\u001b[0m\u001b[1;34m'Enter your name:'\u001b[0m\u001b[1;33m)\u001b[0m\u001b[1;33m\u001b[0m\u001b[1;33m\u001b[0m\u001b[0m\n\u001b[1;32m----> 2\u001b[1;33m \u001b[0mprint\u001b[0m\u001b[1;33m(\u001b[0m\u001b[1;34m\"Hello \"\u001b[0m \u001b[1;33m+\u001b[0m \u001b[0mn\u001b[0m\u001b[1;33m)\u001b[0m\u001b[1;33m\u001b[0m\u001b[1;33m\u001b[0m\u001b[0m\n\u001b[0m",
      "\u001b[1;31mTypeError\u001b[0m: 'str' object is not callable"
     ]
    }
   ],
   "source": [
    "n = input('Enter your name:')\n",
    "print(\"Hello \" + n)"
   ]
  },
  {
   "cell_type": "code",
   "execution_count": 3,
   "metadata": {},
   "outputs": [
    {
     "name": "stdout",
     "output_type": "stream",
     "text": [
      "Enter Hours:35\n",
      "Enter Rate:2.75\n",
      "Pay: 96.25\n"
     ]
    }
   ],
   "source": [
    "h = float(input('Enter Hours:'))\n",
    "r = float(input('Enter Rate:'))\n",
    "print(\"Pay: \"+ str(h*r))"
   ]
  },
  {
   "cell_type": "code",
   "execution_count": 2,
   "metadata": {},
   "outputs": [
    {
     "name": "stdout",
     "output_type": "stream",
     "text": [
      "Witch = 17\n",
      "height = 12.0\n",
      "1. width//2  8.0\n",
      "2. width/2  8.5\n",
      "3. height/3  4.0\n",
      "4. 1 + 2 * 5  11\n"
     ]
    }
   ],
   "source": [
    "w=float(input('Witch = '))\n",
    "h=float(input('height = '))\n",
    "\n",
    "print(\"1. width//2  \" + str(w//2))\n",
    "print(\"2. width/2  \" + str(w/2))\n",
    "print(\"3. height/3  \" + str(h/3))\n",
    "print(\"4. 1 + 2 * 5  \" + str(1+2*5))\n"
   ]
  },
  {
   "cell_type": "code",
   "execution_count": 5,
   "metadata": {},
   "outputs": [
    {
     "name": "stdout",
     "output_type": "stream",
     "text": [
      "Enter temp in Celcius: 0\n",
      "0.0 in celc is 32.0 in fahr.\n"
     ]
    }
   ],
   "source": [
    "c= float(input('Enter temp in Celcius: '))\n",
    "f= c* 9 /5 +32\n",
    "print(str(c) + \" in celc is \" + str(f) + \" in fahr.\")"
   ]
  },
  {
   "cell_type": "code",
   "execution_count": 6,
   "metadata": {},
   "outputs": [
    {
     "name": "stdout",
     "output_type": "stream",
     "text": [
      "Enter Hours: 45\n",
      "Enter Rate: 10\n",
      "Pay: 475.0\n"
     ]
    }
   ],
   "source": [
    "h=float(input('Enter Hours: '))\n",
    "r=float(input('Enter Rate: '))\n",
    "if h<=40:\n",
    "    p = h * r\n",
    "else:\n",
    "    p = 40 * r + (h-40) * r * 1.5\n",
    "print(\"Pay: \" + str(round(p,2)))"
   ]
  },
  {
   "cell_type": "code",
   "execution_count": 8,
   "metadata": {},
   "outputs": [
    {
     "name": "stdout",
     "output_type": "stream",
     "text": [
      "Enter Hours: 4\n",
      "Enter Rate: y\n",
      "Error, please enter numeric input\n"
     ]
    }
   ],
   "source": [
    "try:\n",
    "    h=float(input('Enter Hours: '))\n",
    "    r=float(input('Enter Rate: '))\n",
    "    if h<=40:\n",
    "        p = h * r\n",
    "    else:\n",
    "        p = 40 * r + (h-40) * r * 1.5\n",
    "    print(\"Pay: \" + str(round(p,2)))\n",
    "except: \n",
    "    print(\"Error, please enter numeric input\")"
   ]
  },
  {
   "cell_type": "code",
   "execution_count": 2,
   "metadata": {},
   "outputs": [
    {
     "name": "stdout",
     "output_type": "stream",
     "text": [
      "perfect\n",
      "Bad score\n"
     ]
    }
   ],
   "source": [
    "try:\n",
    "    score = float(input())\n",
    "    if score <=1.0 and score >=0.9:\n",
    "        grade = \"A\"\n",
    "    elif score <0.9 and score >=0.8:\n",
    "        grade = \"B\"\n",
    "    elif score <0.8 and score >=0.7:\n",
    "        grade = \"C\"\n",
    "    elif score <0.7 and score >=0.6:\n",
    "        grade = \"D\"\n",
    "    elif score <0.6 and score >=0:\n",
    "        grand = \"F\"\n",
    "    else:\n",
    "        grade = \"Bad score\"\n",
    "    print(grade)\n",
    "except:\n",
    "    print(\"Bad score\")"
   ]
  },
  {
   "cell_type": "code",
   "execution_count": 1,
   "metadata": {},
   "outputs": [
    {
     "name": "stdout",
     "output_type": "stream",
     "text": [
      "ABC\n",
      "Zap\n",
      "ABC\n"
     ]
    }
   ],
   "source": [
    "def fred():\n",
    "    print(\"Zap\")\n",
    "    \n",
    "def jane():\n",
    "    print(\"ABC\")\n",
    "jane()\n",
    "fred()\n",
    "\n",
    "jane()"
   ]
  },
  {
   "cell_type": "code",
   "execution_count": 6,
   "metadata": {},
   "outputs": [
    {
     "name": "stdout",
     "output_type": "stream",
     "text": [
      "Enter Hours:40 hours\n",
      "Error, please enter numeric input\n"
     ]
    }
   ],
   "source": [
    "def computepay(h,r):\n",
    "    if h<=40:\n",
    "        p= h*r\n",
    "    else:\n",
    "        p = 40*r + (h-40)*r*1.5\n",
    "    \n",
    "    print(\"Pay:\" + str(round(p,2)))\n",
    "    \n",
    "try: \n",
    "    hour=float(input('Enter Hours:'))\n",
    "    rate=float(input('Enter Rate'))\n",
    "    \n",
    "    computepay(hour,rate)\n",
    "    \n",
    "except:\n",
    "    print(\"Error, please enter numeric input\")"
   ]
  },
  {
   "cell_type": "code",
   "execution_count": 7,
   "metadata": {},
   "outputs": [
    {
     "name": "stdout",
     "output_type": "stream",
     "text": [
      "0.9\n",
      "A\n"
     ]
    }
   ],
   "source": [
    "def computegrade(x):\n",
    "    if score <=1.0 and score >=0.9:\n",
    "        grade = \"A\"\n",
    "    elif score <0.9 and score >=0.8:\n",
    "        grade = \"B\"\n",
    "    elif score <0.8 and score >=0.7:\n",
    "        grade = \"C\"\n",
    "    elif score <0.7 and score >=0.6:\n",
    "        grade = \"D\"\n",
    "    elif score <0.6 and score >=0:\n",
    "        grand = \"F\"\n",
    "    else:\n",
    "        grade = \"Bad score\"\n",
    "    print(grade)\n",
    "\n",
    "try:\n",
    "    score = float(input())\n",
    "    \n",
    "    computegrade(score)\n",
    "\n",
    "except:\n",
    "    print(\"Bad score\")"
   ]
  },
  {
   "cell_type": "code",
   "execution_count": 16,
   "metadata": {},
   "outputs": [
    {
     "data": {
      "text/plain": [
       "'Bad score'"
      ]
     },
     "execution_count": 16,
     "metadata": {},
     "output_type": "execute_result"
    }
   ],
   "source": [
    "\"Bad score\""
   ]
  },
  {
   "cell_type": "code",
   "execution_count": null,
   "metadata": {},
   "outputs": [],
   "source": []
  }
 ],
 "metadata": {
  "kernelspec": {
   "display_name": "Python 3",
   "language": "python",
   "name": "python3"
  },
  "language_info": {
   "codemirror_mode": {
    "name": "ipython",
    "version": 3
   },
   "file_extension": ".py",
   "mimetype": "text/x-python",
   "name": "python",
   "nbconvert_exporter": "python",
   "pygments_lexer": "ipython3",
   "version": "3.7.3"
  }
 },
 "nbformat": 4,
 "nbformat_minor": 2
}
