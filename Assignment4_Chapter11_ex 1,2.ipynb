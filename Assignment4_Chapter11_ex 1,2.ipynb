{
 "cells": [
  {
   "cell_type": "code",
   "execution_count": 4,
   "metadata": {},
   "outputs": [
    {
     "name": "stdout",
     "output_type": "stream",
     "text": [
      "Enter a regular expression: ^Author\n",
      "mbox.txt had 1798 lines that matched ^Author\n"
     ]
    }
   ],
   "source": [
    "#Ch.11 - Ex.1\n",
    "fhand = open(\"mbox.txt\")\n",
    "import re\n",
    "\n",
    "i = input(\"Enter a regular expression: \")\n",
    "p = re.compile(i)\n",
    "l = 0\n",
    "\n",
    "for line in fhand:\n",
    "    if p.search(line) != None:\n",
    "        l = l + 1\n",
    "print(\"mbox.txt had %d lines that matched %s\"%(l,i))"
   ]
  },
  {
   "cell_type": "code",
   "execution_count": 12,
   "metadata": {},
   "outputs": [
    {
     "name": "stdout",
     "output_type": "stream",
     "text": [
      "Enter file: mbox.txt\n",
      "38549.79497206704\n"
     ]
    }
   ],
   "source": [
    "#Ch.11 - Ex.2\n",
    "\n",
    "fname = input(\"Enter file: \")\n",
    "fhand = open(fname)\n",
    "NR = []\n",
    "import re\n",
    "NR = re.findall(r'New Revision: (\\d+)',fhand.read())\n",
    "NR = list(map(int,NR))\n",
    "print(sum(NR)/len(NR))\n"
   ]
  },
  {
   "cell_type": "code",
   "execution_count": null,
   "metadata": {},
   "outputs": [],
   "source": []
  },
  {
   "cell_type": "code",
   "execution_count": null,
   "metadata": {},
   "outputs": [],
   "source": []
  }
 ],
 "metadata": {
  "kernelspec": {
   "display_name": "Python 3",
   "language": "python",
   "name": "python3"
  },
  "language_info": {
   "codemirror_mode": {
    "name": "ipython",
    "version": 3
   },
   "file_extension": ".py",
   "mimetype": "text/x-python",
   "name": "python",
   "nbconvert_exporter": "python",
   "pygments_lexer": "ipython3",
   "version": "3.7.3"
  }
 },
 "nbformat": 4,
 "nbformat_minor": 2
}
