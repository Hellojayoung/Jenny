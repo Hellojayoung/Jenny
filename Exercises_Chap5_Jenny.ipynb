{
 "cells": [
  {
   "cell_type": "code",
   "execution_count": 1,
   "metadata": {},
   "outputs": [
    {
     "name": "stdout",
     "output_type": "stream",
     "text": [
      "Enter a number: 4\n",
      "Enter a number: 5\n",
      "Enter a number: bad data\n",
      "Invalid input\n",
      "Enter a number: 7\n",
      "Enter a number: done\n",
      "\n",
      "total: 16.0\n",
      "count: 3\n",
      "average: 5.333333333333333\n"
     ]
    }
   ],
   "source": [
    "total = 0\n",
    "count = 0\n",
    "average = 0\n",
    "while True:\n",
    "    \n",
    "    i=input('Enter a number: ')\n",
    "    if i=='done':\n",
    "        break\n",
    "        \n",
    "    else:\n",
    "        \n",
    "        try:\n",
    "            total = total + float(i)\n",
    "            count = count + 1\n",
    "            average = total / count\n",
    "            \n",
    "        except:\n",
    "            print('Invalid input')\n",
    "\n",
    "print('\\ntotal: '+str(total)+'\\ncount: '+str(count)+'\\naverage: '+str(average))"
   ]
  },
  {
   "cell_type": "code",
   "execution_count": 2,
   "metadata": {},
   "outputs": [
    {
     "name": "stdout",
     "output_type": "stream",
     "text": [
      "Enter a number: 4\n",
      "Enter a number: 5\n",
      "Enter a number: bad data\n",
      "Invalid input\n",
      "Enter a number: 7\n",
      "Enter a number: done\n",
      "\n",
      "total: 16.0\n",
      "count: 3\n",
      "maximum: 7.0\n",
      "minimum: 4.0\n"
     ]
    }
   ],
   "source": [
    "total = 0\n",
    "count = 0\n",
    "maximum = -float(\"inf\")\n",
    "minimum = +float(\"inf\")\n",
    "\n",
    "while True:\n",
    "    \n",
    "    i=input('Enter a number: ')\n",
    "\n",
    "    if i=='done':\n",
    "        break\n",
    "\n",
    "    else:        \n",
    "        try:\n",
    "            total = total + float(i)\n",
    "            count = count + 1\n",
    "            \n",
    "            if maximum > float(i):\n",
    "                maximum = maximum\n",
    "            else:\n",
    "                maximum = float(i)\n",
    "                \n",
    "            if minimum < float(i):\n",
    "                minimum = minimum\n",
    "            else:\n",
    "                minimum = float(i)\n",
    "                \n",
    "        except:\n",
    "            print('Invalid input')\n",
    "\n",
    "print('\\ntotal: '+str(total)+'\\ncount: '+str(count)+'\\nmaximum: '+str(maximum)+'\\nminimum: '+str(minimum))"
   ]
  },
  {
   "cell_type": "code",
   "execution_count": null,
   "metadata": {},
   "outputs": [],
   "source": []
  }
 ],
 "metadata": {
  "kernelspec": {
   "display_name": "Python 3",
   "language": "python",
   "name": "python3"
  },
  "language_info": {
   "codemirror_mode": {
    "name": "ipython",
    "version": 3
   },
   "file_extension": ".py",
   "mimetype": "text/x-python",
   "name": "python",
   "nbconvert_exporter": "python",
   "pygments_lexer": "ipython3",
   "version": "3.7.3"
  }
 },
 "nbformat": 4,
 "nbformat_minor": 2
}
